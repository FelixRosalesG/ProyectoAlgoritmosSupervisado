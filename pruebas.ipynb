{
 "cells": [
  {
   "cell_type": "code",
   "execution_count": 2,
   "metadata": {},
   "outputs": [
    {
     "name": "stdout",
     "output_type": "stream",
     "text": [
      "prim contacto con jupyter\n"
     ]
    }
   ],
   "source": [
    "print (\"prim contacto con jupyter\")"
   ]
  },
  {
   "cell_type": "code",
   "execution_count": null,
   "metadata": {},
   "outputs": [],
   "source": [
    "listafrutas = {\"manzana\", \"peras\", \"uvas\", \"bananos\", \"moras\"}\n",
    "print(listafrutas.add(\"mangos\"))\n",
    "print(listafrutas)\n",
    "print(listafrutas.remove(\"moras\"))\n",
    "print(listafrutas)\n"
   ]
  },
  {
   "cell_type": "code",
   "execution_count": 5,
   "metadata": {},
   "outputs": [
    {
     "name": "stdout",
     "output_type": "stream",
     "text": [
      "[-1.7896680241261091, 1.4419188459669063, -0.15323724658058524, 2.4733320663645055, -0.11521621081488613, 0.1900459606862463]\n"
     ]
    }
   ],
   "source": [
    "import numpy as np\n",
    "\n",
    "datos = [np.random.standard_normal() for i in range(6)]\n",
    "print(datos)\n"
   ]
  }
 ],
 "metadata": {
  "kernelspec": {
   "display_name": "base",
   "language": "python",
   "name": "python3"
  },
  "language_info": {
   "codemirror_mode": {
    "name": "ipython",
    "version": 3
   },
   "file_extension": ".py",
   "mimetype": "text/x-python",
   "name": "python",
   "nbconvert_exporter": "python",
   "pygments_lexer": "ipython3",
   "version": "3.11.5"
  }
 },
 "nbformat": 4,
 "nbformat_minor": 2
}

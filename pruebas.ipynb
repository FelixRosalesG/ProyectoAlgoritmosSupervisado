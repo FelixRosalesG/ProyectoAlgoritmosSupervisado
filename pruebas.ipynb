{
 "cells": [
  {
   "cell_type": "code",
   "execution_count": 2,
   "metadata": {},
   "outputs": [
    {
     "name": "stdout",
     "output_type": "stream",
     "text": [
      "prim contacto con jupyter\n"
     ]
    }
   ],
   "source": [
    "print (\"prim contacto con jupyter\")"
   ]
  },
  {
   "cell_type": "code",
   "execution_count": 12,
   "metadata": {},
   "outputs": [
    {
     "name": "stdout",
     "output_type": "stream",
     "text": [
      "None\n",
      "{'mangos', 'peras', 'bananos', 'uvas', 'moras', 'manzana'}\n",
      "None\n",
      "{'mangos', 'peras', 'bananos', 'uvas', 'manzana'}\n"
     ]
    }
   ],
   "source": [
    "listafrutas = {\"manzana\", \"peras\", \"uvas\", \"bananos\", \"moras\"}\n",
    "print(listafrutas.add(\"mangos\"))\n",
    "print(listafrutas)\n",
    "print(listafrutas.remove(\"moras\"))\n",
    "print(listafrutas)"
   ]
  }
 ],
 "metadata": {
  "kernelspec": {
   "display_name": "base",
   "language": "python",
   "name": "python3"
  },
  "language_info": {
   "codemirror_mode": {
    "name": "ipython",
    "version": 3
   },
   "file_extension": ".py",
   "mimetype": "text/x-python",
   "name": "python",
   "nbconvert_exporter": "python",
   "pygments_lexer": "ipython3",
   "version": "3.11.5"
  }
 },
 "nbformat": 4,
 "nbformat_minor": 2
}
